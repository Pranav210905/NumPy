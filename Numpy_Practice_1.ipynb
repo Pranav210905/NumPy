{
  "nbformat": 4,
  "nbformat_minor": 0,
  "metadata": {
    "colab": {
      "provenance": [],
      "toc_visible": true,
      "include_colab_link": true
    },
    "kernelspec": {
      "name": "python3",
      "display_name": "Python 3"
    },
    "language_info": {
      "name": "python"
    }
  },
  "cells": [
    {
      "cell_type": "markdown",
      "metadata": {
        "id": "view-in-github",
        "colab_type": "text"
      },
      "source": [
        "<a href=\"https://colab.research.google.com/github/Pranav210905/NumPy/blob/main/Numpy_Practice_1.ipynb\" target=\"_parent\"><img src=\"https://colab.research.google.com/assets/colab-badge.svg\" alt=\"Open In Colab\"/></a>"
      ]
    },
    {
      "cell_type": "markdown",
      "source": [
        "Welcome to the NumPy practice exercise! Please follow these instructions carefully to complete your assignment:\n",
        "\n",
        "1. **Read Each Question Carefully**: Each question is designed to test different aspects of your NumPy skills. Make sure to understand what is being asked before you start coding.\n",
        "\n",
        "2. **Write Your Code in the Provided Cells**: For each question, you will find a corresponding code cell where you should write your solution. Do not modify any other part of the notebook.\n",
        "\n",
        "3. **Run Your Code**: After writing your code, run the cell to ensure that your solution works as expected. Check the output and make sure it meets the requirements specified in the question.\n",
        "\n",
        "4. **Complete All Questions**: Make sure you answer all the questions provided. Each question has been included to assess a different skill or concept in NumPy.\n",
        "\n",
        "5. **Download Your Notebook**: Once you have completed all questions and verified that your solutions are correct, download your notebook file (.ipynb). You can do this by selecting `File > Download > Download .ipynb` from the menu.\n",
        "\n",
        "6. **Submit Your Work**: Upload the downloaded `.ipynb` file to the designated learning platform for submission.\n",
        "\n",
        "7. **Check Your Submission**: Ensure that you have submitted the correct file and that it is not corrupted. If there are any issues with the file, you may need to resubmit.\n",
        "\n",
        "Good luck, and happy coding!"
      ],
      "metadata": {
        "id": "Q6iHeLrHLG3D"
      }
    },
    {
      "cell_type": "markdown",
      "source": [
        "Q1. Import Numpy as `np`"
      ],
      "metadata": {
        "id": "CpHe82s4eBTb"
      }
    },
    {
      "cell_type": "code",
      "execution_count": 2,
      "metadata": {
        "id": "qnzsP323dx5r"
      },
      "outputs": [],
      "source": [
        "import numpy as np\n"
      ]
    },
    {
      "cell_type": "markdown",
      "source": [
        "Q2. Create an array of 10 zeros."
      ],
      "metadata": {
        "id": "-yNU8CmMeHhv"
      }
    },
    {
      "cell_type": "code",
      "source": [
        "a=np.zeros(10)"
      ],
      "metadata": {
        "id": "myhMyzuKeLYR",
        "colab": {
          "base_uri": "https://localhost:8080/"
        },
        "outputId": "3d017100-5a08-4d24-ae65-f3ebbefe8021"
      },
      "execution_count": 4,
      "outputs": [
        {
          "output_type": "execute_result",
          "data": {
            "text/plain": [
              "array([0., 0., 0., 0., 0., 0., 0., 0., 0., 0.])"
            ]
          },
          "metadata": {},
          "execution_count": 4
        }
      ]
    },
    {
      "cell_type": "markdown",
      "source": [
        "Q3. Create an array of 10 ones and the fifth value which is 0."
      ],
      "metadata": {
        "id": "KEQS_mySeMXg"
      }
    },
    {
      "cell_type": "code",
      "source": [
        "b=np.ones(10)\n",
        "b[4]=0"
      ],
      "metadata": {
        "id": "PSsUmYPyeL8q",
        "colab": {
          "base_uri": "https://localhost:8080/"
        },
        "outputId": "986f0203-76bd-45e5-8675-8fce1c200fde"
      },
      "execution_count": 7,
      "outputs": [
        {
          "output_type": "execute_result",
          "data": {
            "text/plain": [
              "array([1., 1., 1., 1., 0., 1., 1., 1., 1., 1.])"
            ]
          },
          "metadata": {},
          "execution_count": 7
        }
      ]
    },
    {
      "cell_type": "markdown",
      "source": [
        "Q.4 Create an array of 10 fives"
      ],
      "metadata": {
        "id": "-v4uQMqpeUm1"
      }
    },
    {
      "cell_type": "code",
      "source": [
        "c=np.full(10,fill_value=5)\n",
        "c"
      ],
      "metadata": {
        "id": "gvDcI7L1eZ0F",
        "colab": {
          "base_uri": "https://localhost:8080/"
        },
        "outputId": "814a3150-0131-41e2-f200-3dccf88bdc1d"
      },
      "execution_count": 8,
      "outputs": [
        {
          "output_type": "execute_result",
          "data": {
            "text/plain": [
              "array([5, 5, 5, 5, 5, 5, 5, 5, 5, 5])"
            ]
          },
          "metadata": {},
          "execution_count": 8
        }
      ]
    },
    {
      "cell_type": "markdown",
      "source": [
        "Q.5 Create an array of the integers from 10 to 50."
      ],
      "metadata": {
        "id": "94_6fAX9eajU"
      }
    },
    {
      "cell_type": "code",
      "source": [
        "d=np.arange(10,51)\n",
        "d"
      ],
      "metadata": {
        "id": "Yy2cB0CPeiCW",
        "colab": {
          "base_uri": "https://localhost:8080/"
        },
        "outputId": "3fabf31c-0809-44c7-8bcc-6a0a2f851f8c"
      },
      "execution_count": 10,
      "outputs": [
        {
          "output_type": "execute_result",
          "data": {
            "text/plain": [
              "array([10, 11, 12, 13, 14, 15, 16, 17, 18, 19, 20, 21, 22, 23, 24, 25, 26,\n",
              "       27, 28, 29, 30, 31, 32, 33, 34, 35, 36, 37, 38, 39, 40, 41, 42, 43,\n",
              "       44, 45, 46, 47, 48, 49, 50])"
            ]
          },
          "metadata": {},
          "execution_count": 10
        }
      ]
    },
    {
      "cell_type": "markdown",
      "source": [
        "Q.6 Create an array of all even integers from 10 to 50."
      ],
      "metadata": {
        "id": "S-eEwBD6en9H"
      }
    },
    {
      "cell_type": "code",
      "source": [
        "e=np.arange(10,51,2)\n",
        "e"
      ],
      "metadata": {
        "id": "g761bs1NexeN",
        "colab": {
          "base_uri": "https://localhost:8080/"
        },
        "outputId": "dc8dae0f-7ac2-42e0-a91b-e7f27a3cdba3"
      },
      "execution_count": 11,
      "outputs": [
        {
          "output_type": "execute_result",
          "data": {
            "text/plain": [
              "array([10, 12, 14, 16, 18, 20, 22, 24, 26, 28, 30, 32, 34, 36, 38, 40, 42,\n",
              "       44, 46, 48, 50])"
            ]
          },
          "metadata": {},
          "execution_count": 11
        }
      ]
    },
    {
      "cell_type": "markdown",
      "source": [
        "Q.7 Create a 3x3 matrix with values ranging from 0 to 8.\n",
        "\n",
        "\n"
      ],
      "metadata": {
        "id": "Y8BSfIPGeyO9"
      }
    },
    {
      "cell_type": "code",
      "source": [
        "f=np.arange(9)\n",
        "f.reshape(3,3)"
      ],
      "metadata": {
        "id": "AnKpTTxWe5Xu",
        "colab": {
          "base_uri": "https://localhost:8080/"
        },
        "outputId": "35da07be-dd97-489e-e642-f7ffb4cafb5c"
      },
      "execution_count": 15,
      "outputs": [
        {
          "output_type": "execute_result",
          "data": {
            "text/plain": [
              "array([[0, 1, 2],\n",
              "       [3, 4, 5],\n",
              "       [6, 7, 8]])"
            ]
          },
          "metadata": {},
          "execution_count": 15
        }
      ]
    },
    {
      "cell_type": "markdown",
      "source": [
        "Q.8 Create a 3x3 identity matrix."
      ],
      "metadata": {
        "id": "ecPUiEide52o"
      }
    },
    {
      "cell_type": "code",
      "source": [
        "g=np.eye(3,3)\n",
        "g"
      ],
      "metadata": {
        "id": "rprdXOBwe_Ja",
        "colab": {
          "base_uri": "https://localhost:8080/"
        },
        "outputId": "02bdcd18-b260-4237-91c5-d6db11e41048"
      },
      "execution_count": 16,
      "outputs": [
        {
          "output_type": "execute_result",
          "data": {
            "text/plain": [
              "array([[1., 0., 0.],\n",
              "       [0., 1., 0.],\n",
              "       [0., 0., 1.]])"
            ]
          },
          "metadata": {},
          "execution_count": 16
        }
      ]
    },
    {
      "cell_type": "markdown",
      "source": [
        "Q.9 Use numpy to generate a random number between 0 to 1."
      ],
      "metadata": {
        "id": "bi_B6K6ifC_R"
      }
    },
    {
      "cell_type": "code",
      "source": [
        "h=np.random.uniform(0,1)\n",
        "h"
      ],
      "metadata": {
        "id": "rfEvKpuCfOCv",
        "colab": {
          "base_uri": "https://localhost:8080/"
        },
        "outputId": "695b264e-9cab-4799-aa5a-cd4d4f312c21"
      },
      "execution_count": 20,
      "outputs": [
        {
          "output_type": "execute_result",
          "data": {
            "text/plain": [
              "0.018462928841440074"
            ]
          },
          "metadata": {},
          "execution_count": 20
        }
      ]
    },
    {
      "cell_type": "markdown",
      "source": [
        "Q.10 Use numpy array to generate an array of 25 numbers."
      ],
      "metadata": {
        "id": "BqO0MsIIfOyf"
      }
    },
    {
      "cell_type": "code",
      "source": [
        "o=np.arange(25)\n",
        "o"
      ],
      "metadata": {
        "id": "ld8mt2IwfYDE",
        "colab": {
          "base_uri": "https://localhost:8080/"
        },
        "outputId": "c9db8640-f0d0-437e-c88e-a32b445d6608"
      },
      "execution_count": 21,
      "outputs": [
        {
          "output_type": "execute_result",
          "data": {
            "text/plain": [
              "array([ 0,  1,  2,  3,  4,  5,  6,  7,  8,  9, 10, 11, 12, 13, 14, 15, 16,\n",
              "       17, 18, 19, 20, 21, 22, 23, 24])"
            ]
          },
          "metadata": {},
          "execution_count": 21
        }
      ]
    },
    {
      "cell_type": "markdown",
      "source": [
        "Q.11 create the following matrix\n",
        "\n",
        "```python\n",
        "array([0.01, 0.02, 0.03, 0.04, 0.05, 0.06, 0.07, 0.08, 0.09, 0.1 , 0.11,\n",
        "       0.12, 0.13, 0.14, 0.15, 0.16, 0.17, 0.18, 0.19, 0.2 , 0.21, 0.22,\n",
        "       0.23, 0.24, 0.25, 0.26, 0.27, 0.28, 0.29, 0.3 , 0.31, 0.32, 0.33,\n",
        "       0.34, 0.35, 0.36, 0.37, 0.38, 0.39, 0.4 , 0.41, 0.42, 0.43, 0.44,\n",
        "       0.45, 0.46, 0.47, 0.48, 0.49, 0.5 , 0.51, 0.52, 0.53, 0.54, 0.55,\n",
        "       0.56, 0.57, 0.58, 0.59, 0.6 , 0.61, 0.62, 0.63, 0.64, 0.65, 0.66,\n",
        "       0.67, 0.68, 0.69, 0.7 , 0.71, 0.72, 0.73, 0.74, 0.75, 0.76, 0.77,\n",
        "       0.78, 0.79, 0.8 , 0.81, 0.82, 0.83, 0.84, 0.85, 0.86, 0.87, 0.88,\n",
        "       0.89, 0.9 , 0.91, 0.92, 0.93, 0.94, 0.95, 0.96, 0.97, 0.98, 0.99,\n",
        "       1.  ])\n",
        "\n",
        "  ```"
      ],
      "metadata": {
        "id": "MQ2tuV9TfYjK"
      }
    },
    {
      "cell_type": "code",
      "source": [
        "j=np.arange(1,101)\n",
        "j/100"
      ],
      "metadata": {
        "id": "R-5pz2pSf5t3",
        "colab": {
          "base_uri": "https://localhost:8080/"
        },
        "outputId": "fe96e3e0-fdc2-4f29-d36e-1afced89a353"
      },
      "execution_count": 23,
      "outputs": [
        {
          "output_type": "execute_result",
          "data": {
            "text/plain": [
              "array([0.01, 0.02, 0.03, 0.04, 0.05, 0.06, 0.07, 0.08, 0.09, 0.1 , 0.11,\n",
              "       0.12, 0.13, 0.14, 0.15, 0.16, 0.17, 0.18, 0.19, 0.2 , 0.21, 0.22,\n",
              "       0.23, 0.24, 0.25, 0.26, 0.27, 0.28, 0.29, 0.3 , 0.31, 0.32, 0.33,\n",
              "       0.34, 0.35, 0.36, 0.37, 0.38, 0.39, 0.4 , 0.41, 0.42, 0.43, 0.44,\n",
              "       0.45, 0.46, 0.47, 0.48, 0.49, 0.5 , 0.51, 0.52, 0.53, 0.54, 0.55,\n",
              "       0.56, 0.57, 0.58, 0.59, 0.6 , 0.61, 0.62, 0.63, 0.64, 0.65, 0.66,\n",
              "       0.67, 0.68, 0.69, 0.7 , 0.71, 0.72, 0.73, 0.74, 0.75, 0.76, 0.77,\n",
              "       0.78, 0.79, 0.8 , 0.81, 0.82, 0.83, 0.84, 0.85, 0.86, 0.87, 0.88,\n",
              "       0.89, 0.9 , 0.91, 0.92, 0.93, 0.94, 0.95, 0.96, 0.97, 0.98, 0.99,\n",
              "       1.  ])"
            ]
          },
          "metadata": {},
          "execution_count": 23
        }
      ]
    },
    {
      "cell_type": "markdown",
      "source": [
        "Q.12 Create an array of 20 linearly spaced points between 0 and 1."
      ],
      "metadata": {
        "id": "kwRSHCD-gIqN"
      }
    },
    {
      "cell_type": "code",
      "source": [
        "k=np.linspace(0,1,20)\n",
        "k"
      ],
      "metadata": {
        "id": "w2Be8-cdgUDb",
        "colab": {
          "base_uri": "https://localhost:8080/"
        },
        "outputId": "088c2221-f5bc-4daf-f8b3-86a778758a2a"
      },
      "execution_count": 25,
      "outputs": [
        {
          "output_type": "execute_result",
          "data": {
            "text/plain": [
              "array([0.        , 0.05263158, 0.10526316, 0.15789474, 0.21052632,\n",
              "       0.26315789, 0.31578947, 0.36842105, 0.42105263, 0.47368421,\n",
              "       0.52631579, 0.57894737, 0.63157895, 0.68421053, 0.73684211,\n",
              "       0.78947368, 0.84210526, 0.89473684, 0.94736842, 1.        ])"
            ]
          },
          "metadata": {},
          "execution_count": 25
        }
      ]
    },
    {
      "cell_type": "markdown",
      "source": [
        "# End!"
      ],
      "metadata": {
        "id": "3RtCSNU_nZGs"
      }
    }
  ]
}