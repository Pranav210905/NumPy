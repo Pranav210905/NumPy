{
  "cells": [
    {
      "cell_type": "markdown",
      "metadata": {
        "id": "view-in-github",
        "colab_type": "text"
      },
      "source": [
        "<a href=\"https://colab.research.google.com/github/Pranav210905/NumPy/blob/main/Numpy_Assignment2.ipynb\" target=\"_parent\"><img src=\"https://colab.research.google.com/assets/colab-badge.svg\" alt=\"Open In Colab\"/></a>"
      ]
    },
    {
      "cell_type": "markdown",
      "source": [
        "# Numpy Assignment\n",
        "\n",
        "---\n",
        "\n",
        "**Instructions**\n",
        "\n",
        "1. **Read Each Question Carefully**: Understand what each question is asking before starting.\n",
        "\n",
        "2. **Complete the Functions**: For each question, you’ll find a partially completed function in the code cell. Fill in the missing parts to complete the function according to the requirements.\n",
        "\n",
        "3. **Test Your Function**: After completing each function, run the cell to test if your function works correctly.\n",
        "\n",
        "4. **Answer All Questions**: Ensure you complete all functions. Each question targets different aspects of NumPy.\n",
        "\n",
        "5. **Download Your Notebook**: Once you’ve finished and tested all functions, download your notebook file (.ipynb) by selecting `File > Download > Download .ipynb`.\n",
        "\n",
        "6. **Submit Your Work**: Upload the downloaded `.ipynb` file to the designated platform for submission.\n",
        "\n",
        "7. **Verify Your Submission**: Check that you have submitted the correct file and that it is not corrupted. Resubmit if necessary.\n",
        "\n",
        "* Note: Don't change or replace any of the given arrays or variables, use it as given and write your code.\n",
        "\n",
        "Good luck, and happy coding!\n",
        "\n",
        "---"
      ],
      "metadata": {
        "id": "3UFBrs7PJ36J"
      },
      "id": "3UFBrs7PJ36J"
    },
    {
      "cell_type": "markdown",
      "source": [
        "## Import library\n",
        "- Do not modify the given attributes. Execute the below code cells sequencially to get the data."
      ],
      "metadata": {
        "id": "Hf2Wc35UgGD2"
      },
      "id": "Hf2Wc35UgGD2"
    },
    {
      "cell_type": "code",
      "source": [
        "import numpy as np"
      ],
      "metadata": {
        "id": "q3ewF8Feybym"
      },
      "execution_count": 1,
      "outputs": [],
      "id": "q3ewF8Feybym"
    },
    {
      "cell_type": "markdown",
      "metadata": {
        "id": "45fcc706"
      },
      "source": [
        "---\n",
        "---\n",
        "**1.Complete the given code which takes an array of salaries as input and prints mean, median of the salaries** <br>\n",
        "- Input : An array of salaries <br>\n",
        "- Output : mean, median (print in single same order)"
      ],
      "id": "45fcc706"
    },
    {
      "cell_type": "code",
      "source": [
        "import numpy as np\n",
        "salaries = np.array([50000, 60000, 70000, 80000, 90000, 100000, 110000, 50000])\n",
        "\n",
        "# Write the code here\n",
        "mean =salaries.mean()\n",
        "median =np.median(salaries)\n",
        "print(mean,median)\n"
      ],
      "metadata": {
        "id": "Hxjbtix6zoXt",
        "colab": {
          "base_uri": "https://localhost:8080/"
        },
        "outputId": "9808997b-4d67-47ae-ce20-30af22e87d03"
      },
      "execution_count": 4,
      "outputs": [
        {
          "output_type": "stream",
          "name": "stdout",
          "text": [
            "76250.0\n",
            "75000.0\n"
          ]
        }
      ],
      "id": "Hxjbtix6zoXt"
    },
    {
      "cell_type": "markdown",
      "source": [
        "---\n",
        "---\n",
        "**2. Complete the given code which takes an array of salaries as input and prints variance and standard deviation of the salaries with 2 decimals** <br>\n",
        "- Input  : An array of salaries <br>\n",
        "- Output : variance"
      ],
      "metadata": {
        "id": "KWO0koAQ1Sp-"
      },
      "id": "KWO0koAQ1Sp-"
    },
    {
      "cell_type": "code",
      "source": [
        "salaries = np.array([50000, 60000, 70000, 80000, 90000, 100000, 110000, 50000])\n",
        "\n",
        "# Write the code here\n",
        "variance =salaries.var()\n",
        "standard_deviation =salaries.std()\n",
        "print(variance,standard_deviation)\n"
      ],
      "metadata": {
        "id": "UzvcQiJezq9t",
        "colab": {
          "base_uri": "https://localhost:8080/"
        },
        "outputId": "1f46ce19-efe5-428f-d26a-72f92d5e6c90"
      },
      "execution_count": 6,
      "outputs": [
        {
          "output_type": "stream",
          "name": "stdout",
          "text": [
            "448437500.0\n",
            "21176.34293262177\n"
          ]
        }
      ],
      "id": "UzvcQiJezq9t"
    },
    {
      "cell_type": "markdown",
      "metadata": {
        "id": "4403d0f3"
      },
      "source": [
        "---\n",
        "---\n",
        "**3. Write a code to get the quartiles (Q1, Q2, Q3) of an array of salaries.** <br>\n",
        "- Input  : An array of salaries <br>\n",
        "- Output : q1, q2, q3"
      ],
      "id": "4403d0f3"
    },
    {
      "cell_type": "code",
      "source": [
        "salaries = np.array([50000, 60000, 70000, 80000, 90000, 100000, 110000, 50000])\n",
        "q1=np.quantile(salaries,0.25)\n",
        "q2=np.quantile(salaries,0.50)\n",
        "q3=np.quantile(salaries,0.75)\n",
        "print(q1,q2,q3)\n",
        "\n",
        "# Write the code here"
      ],
      "metadata": {
        "id": "_YZrxOhWzsdy",
        "colab": {
          "base_uri": "https://localhost:8080/"
        },
        "outputId": "533535b9-8b63-44bc-b674-59f4a3d9830d"
      },
      "execution_count": 44,
      "outputs": [
        {
          "output_type": "stream",
          "name": "stdout",
          "text": [
            "57500.0 75000.0 92500.0\n"
          ]
        }
      ],
      "id": "_YZrxOhWzsdy"
    },
    {
      "cell_type": "markdown",
      "metadata": {
        "id": "a4292c15"
      },
      "source": [
        "---\n",
        "---\n",
        "**4. Write a code to get the z_scores which takes the given *nums* array as input and returns an array having the z_scores of all elements** <br>\n",
        "- Input  : An array of elements (Use only the given array) <br>\n",
        "- Output : An array having **z_scores**"
      ],
      "id": "a4292c15"
    },
    {
      "cell_type": "code",
      "source": [
        "nums = np.array([10, 20, 0, 40, 50, 60])\n",
        "\n",
        "# Write your code here\n",
        "mean=nums.mean()\n",
        "std=nums.std()\n",
        "z_scores =(nums-mean)/std\n",
        "print(z_scores)"
      ],
      "metadata": {
        "id": "hQMqy1dzzuc6",
        "colab": {
          "base_uri": "https://localhost:8080/"
        },
        "outputId": "9a4e0796-c831-47aa-a2b9-db41d0e71f60"
      },
      "execution_count": 45,
      "outputs": [
        {
          "output_type": "stream",
          "name": "stdout",
          "text": [
            "[-0.9258201  -0.46291005 -1.38873015  0.46291005  0.9258201   1.38873015]\n"
          ]
        }
      ],
      "id": "hQMqy1dzzuc6"
    },
    {
      "cell_type": "markdown",
      "metadata": {
        "id": "a8aad42f"
      },
      "source": [
        "---\n",
        "---\n",
        "**5. Write a code to get the variance which takes the given array of salaries and returns the variance without using the inbuilt variance function.** <br>\n",
        " - Input  : An array of salaries\n",
        " - Output : variance\n",
        "\n",
        "- Hints:\n",
        " - Use the formula - variance = sum ((xi - μ)^2) / N.\n",
        " - Calculate the mean to compute the variance"
      ],
      "id": "a8aad42f"
    },
    {
      "cell_type": "code",
      "source": [
        "salaries = np.array([50000, 60000, 70000, 80000, 90000, 100000, 110000, 50000])\n",
        "\n",
        "# Write your code here\n",
        "mean=salaries.mean()\n",
        "n=len(salaries)\n",
        "var =sum((salaries-mean)**2)/n\n",
        "print(var)"
      ],
      "metadata": {
        "id": "RstGc8Tazv9L",
        "colab": {
          "base_uri": "https://localhost:8080/"
        },
        "outputId": "c0d3e6f0-3d17-42e3-c0f2-dbd42548f6ce"
      },
      "execution_count": 30,
      "outputs": [
        {
          "output_type": "stream",
          "name": "stdout",
          "text": [
            "448437500.0\n"
          ]
        }
      ],
      "id": "RstGc8Tazv9L"
    },
    {
      "cell_type": "markdown",
      "metadata": {
        "id": "6ca4ad74"
      },
      "source": [
        "---\n",
        "---\n",
        "**6. Write a code to get the computative salaries which takes the given array of salaries and returns all salaries which are higher than the mean salary.** <br>\n",
        " - Input  : An array of salaries\n",
        " - Output : An array of salaries higher than the mean."
      ],
      "id": "6ca4ad74"
    },
    {
      "cell_type": "code",
      "source": [
        "salaries = np.array([50000, 60000, 70000, 80000, 90000, 100000, 110000, 50000])\n",
        "\n",
        "# Write the code here to find all salaries higher than the mean\n",
        "mean=salaries.mean()\n",
        "higher_salaries =salaries[salaries>mean]\n",
        "print(higher_salaries)"
      ],
      "metadata": {
        "id": "iiCpxXw1zxgs",
        "colab": {
          "base_uri": "https://localhost:8080/"
        },
        "outputId": "78bfbf29-528e-4a98-bb4f-7ac5fd2e247c"
      },
      "execution_count": 32,
      "outputs": [
        {
          "output_type": "stream",
          "name": "stdout",
          "text": [
            "[ 80000  90000 100000 110000]\n"
          ]
        }
      ],
      "id": "iiCpxXw1zxgs"
    },
    {
      "cell_type": "markdown",
      "metadata": {
        "id": "3b1cfa5e"
      },
      "source": [
        "---\n",
        "---\n",
        "**7. Write a code to get the cumulative sums which takes two given arrays of same size and returns the difference between cumulative sums at each position.** <br>\n",
        "- Input  : Use the given two arrays\n",
        "- Output : difference in cumulative sums\n",
        "\n"
      ],
      "id": "3b1cfa5e"
    },
    {
      "cell_type": "code",
      "source": [
        "a1 = np.array([10,12,14,8,7,9,20])\n",
        "a2 = np.array([12,11,8,10,9,13,7])\n",
        "\n",
        "# write your code here to compute cumulative sums\n",
        "cumsum_a1 =np.cumsum(a1)\n",
        "cumsum_a2 =np.cumsum(a2)\n",
        "\n",
        "\n",
        "# Compute difference\n",
        "diff =np.subtract(cumsum_a1,cumsum_a2)\n",
        "print(diff)"
      ],
      "metadata": {
        "id": "5xR9Gcl8zzEj",
        "colab": {
          "base_uri": "https://localhost:8080/"
        },
        "outputId": "aea9ad25-16ce-481f-ee77-fca5b2ada460"
      },
      "execution_count": 48,
      "outputs": [
        {
          "output_type": "stream",
          "name": "stdout",
          "text": [
            "[-2 -1  5  3  1 -3 10]\n"
          ]
        }
      ],
      "id": "5xR9Gcl8zzEj"
    },
    {
      "cell_type": "markdown",
      "metadata": {
        "id": "2addb776"
      },
      "source": [
        "---\n",
        "---\n",
        "**8. Given two arrays a1 and a2 of shape (4, 3) with integers between 10 to 50 (inclusive) and concatenate them along axis 0.**"
      ],
      "id": "2addb776"
    },
    {
      "cell_type": "code",
      "source": [
        "a1 = np.array([[10, 20, 30], [15, 25, 35], [40, 50, 45], [30, 35, 40]])\n",
        "a2 = np.array([[12, 22, 32], [17, 27, 37], [42, 47, 52], [31, 36, 41]])\n",
        "\n",
        "# write your code here\n",
        "concatenated =np.concatenate((a1,a2), axis=0)\n",
        "print(concatenated)"
      ],
      "metadata": {
        "id": "KyLW1SFGz0RS",
        "colab": {
          "base_uri": "https://localhost:8080/"
        },
        "outputId": "1e8c8803-f3d7-45f6-8376-89d75a604b7b"
      },
      "execution_count": 36,
      "outputs": [
        {
          "output_type": "stream",
          "name": "stdout",
          "text": [
            "[[10 20 30]\n",
            " [15 25 35]\n",
            " [40 50 45]\n",
            " [30 35 40]\n",
            " [12 22 32]\n",
            " [17 27 37]\n",
            " [42 47 52]\n",
            " [31 36 41]]\n"
          ]
        }
      ],
      "id": "KyLW1SFGz0RS"
    },
    {
      "cell_type": "markdown",
      "source": [
        "**9. Write a code to calculate the interquartile range (IQR) of given array of salaries.**"
      ],
      "metadata": {
        "id": "Xf8RPt6Wt543"
      },
      "id": "Xf8RPt6Wt543"
    },
    {
      "cell_type": "code",
      "source": [
        "salaries = np.array([50000, 60000, 70000, 80000, 90000, 100000])\n",
        "\n",
        "# Write the code here\n",
        "q1=np.quantile(salaries,0.25)\n",
        "q3=np.quantile(salaries,0.75)\n",
        "iqr =q3-q1\n",
        "print(iqr)"
      ],
      "metadata": {
        "id": "TlbNOvfpz1uP",
        "colab": {
          "base_uri": "https://localhost:8080/"
        },
        "outputId": "7630a51e-c385-41cc-c431-eebe929990dc"
      },
      "execution_count": 38,
      "outputs": [
        {
          "output_type": "stream",
          "name": "stdout",
          "text": [
            "25000.0\n"
          ]
        }
      ],
      "id": "TlbNOvfpz1uP"
    },
    {
      "cell_type": "markdown",
      "source": [
        "**10. Given a 2D NumPy array a1 with shape (4, 3), reshape it into a 2D array with 2 rows and 6 columns.**"
      ],
      "metadata": {
        "id": "VR9xKKlMvfDY"
      },
      "id": "VR9xKKlMvfDY"
    },
    {
      "cell_type": "code",
      "source": [
        "a1 = np.array([[10, 20, 30], [15, 25, 35], [40, 50, 45], [30, 35, 40]])\n",
        "\n",
        "# Write the code here\n",
        "reshaped_array =a1.reshape(2,6)\n",
        "print(reshaped_array)"
      ],
      "metadata": {
        "id": "sQQrmpZOz4mN",
        "colab": {
          "base_uri": "https://localhost:8080/"
        },
        "outputId": "23b33d90-f8ba-4b05-ce38-f27d517bae60"
      },
      "execution_count": 39,
      "outputs": [
        {
          "output_type": "stream",
          "name": "stdout",
          "text": [
            "[[10 20 30 15 25 35]\n",
            " [40 50 45 30 35 40]]\n"
          ]
        }
      ],
      "id": "sQQrmpZOz4mN"
    },
    {
      "cell_type": "markdown",
      "source": [
        "## --- END ---"
      ],
      "metadata": {
        "id": "nliBq_y7Jp11"
      },
      "id": "nliBq_y7Jp11"
    }
  ],
  "metadata": {
    "kernelspec": {
      "display_name": "Python 3 (ipykernel)",
      "language": "python",
      "name": "python3"
    },
    "language_info": {
      "codemirror_mode": {
        "name": "ipython",
        "version": 3
      },
      "file_extension": ".py",
      "mimetype": "text/x-python",
      "name": "python",
      "nbconvert_exporter": "python",
      "pygments_lexer": "ipython3",
      "version": "3.9.7"
    },
    "colab": {
      "provenance": [],
      "include_colab_link": true
    }
  },
  "nbformat": 4,
  "nbformat_minor": 5
}