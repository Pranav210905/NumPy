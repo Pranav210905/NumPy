{
  "nbformat": 4,
  "nbformat_minor": 0,
  "metadata": {
    "colab": {
      "provenance": [],
      "authorship_tag": "ABX9TyOs2xCjgikuFFB1L5umPh31",
      "include_colab_link": true
    },
    "kernelspec": {
      "name": "python3",
      "display_name": "Python 3"
    },
    "language_info": {
      "name": "python"
    }
  },
  "cells": [
    {
      "cell_type": "markdown",
      "metadata": {
        "id": "view-in-github",
        "colab_type": "text"
      },
      "source": [
        "<a href=\"https://colab.research.google.com/github/Pranav210905/NumPy/blob/main/Linear_Algebra.ipynb\" target=\"_parent\"><img src=\"https://colab.research.google.com/assets/colab-badge.svg\" alt=\"Open In Colab\"/></a>"
      ]
    },
    {
      "cell_type": "code",
      "execution_count": 1,
      "metadata": {
        "id": "PBBdsKxyM1OI"
      },
      "outputs": [],
      "source": [
        "import numpy as np"
      ]
    },
    {
      "cell_type": "code",
      "source": [
        "a=np.array([[1,2,3,4],\n",
        "   [5,3,5,9],\n",
        "   [8,6,4,1],\n",
        "   [1,5,8,3]])"
      ],
      "metadata": {
        "id": "ZaywGIzmM7ob"
      },
      "execution_count": 2,
      "outputs": []
    },
    {
      "cell_type": "code",
      "source": [
        "b=np.array([[1,4,1,6],\n",
        "   [9,3,7,4],\n",
        "   [4,3,3,2],\n",
        "   [6,3,5,0]])"
      ],
      "metadata": {
        "id": "U0pyI70UNH75"
      },
      "execution_count": 3,
      "outputs": []
    },
    {
      "cell_type": "code",
      "source": [
        "np.add(a,b)"
      ],
      "metadata": {
        "colab": {
          "base_uri": "https://localhost:8080/"
        },
        "id": "I1l86kNGNP6G",
        "outputId": "f3173c22-0189-440e-e8eb-b5ad3bcd59be"
      },
      "execution_count": 4,
      "outputs": [
        {
          "output_type": "execute_result",
          "data": {
            "text/plain": [
              "array([[ 2,  6,  4, 10],\n",
              "       [14,  6, 12, 13],\n",
              "       [12,  9,  7,  3],\n",
              "       [ 7,  8, 13,  3]])"
            ]
          },
          "metadata": {},
          "execution_count": 4
        }
      ]
    },
    {
      "cell_type": "code",
      "source": [
        "np.subtract(a,b)"
      ],
      "metadata": {
        "colab": {
          "base_uri": "https://localhost:8080/"
        },
        "id": "vSBJnBakNUAo",
        "outputId": "219a8761-44f9-4181-e29c-0f60ea204e56"
      },
      "execution_count": 5,
      "outputs": [
        {
          "output_type": "execute_result",
          "data": {
            "text/plain": [
              "array([[ 0, -2,  2, -2],\n",
              "       [-4,  0, -2,  5],\n",
              "       [ 4,  3,  1, -1],\n",
              "       [-5,  2,  3,  3]])"
            ]
          },
          "metadata": {},
          "execution_count": 5
        }
      ]
    },
    {
      "cell_type": "code",
      "source": [
        "np.dot(a,b)"
      ],
      "metadata": {
        "colab": {
          "base_uri": "https://localhost:8080/"
        },
        "id": "tS_lZgcWNfIg",
        "outputId": "6791e627-75c7-4154-dead-ed96a4011608"
      },
      "execution_count": 6,
      "outputs": [
        {
          "output_type": "execute_result",
          "data": {
            "text/plain": [
              "array([[ 55,  31,  44,  20],\n",
              "       [106,  71,  86,  52],\n",
              "       [ 84,  65,  67,  80],\n",
              "       [ 96,  52,  75,  42]])"
            ]
          },
          "metadata": {},
          "execution_count": 6
        }
      ]
    },
    {
      "cell_type": "code",
      "source": [
        "a.T"
      ],
      "metadata": {
        "colab": {
          "base_uri": "https://localhost:8080/"
        },
        "id": "H684BquqNwt3",
        "outputId": "b15171d3-eabb-405b-9c41-724a75246ccc"
      },
      "execution_count": 7,
      "outputs": [
        {
          "output_type": "execute_result",
          "data": {
            "text/plain": [
              "array([[1, 5, 8, 1],\n",
              "       [2, 3, 6, 5],\n",
              "       [3, 5, 4, 8],\n",
              "       [4, 9, 1, 3]])"
            ]
          },
          "metadata": {},
          "execution_count": 7
        }
      ]
    },
    {
      "cell_type": "code",
      "source": [
        "np.linalg.det(a)"
      ],
      "metadata": {
        "colab": {
          "base_uri": "https://localhost:8080/"
        },
        "id": "4B6D6oL2N0Tk",
        "outputId": "60e7a62f-4e69-4e84-e9f1-3ca546c97fb8"
      },
      "execution_count": 8,
      "outputs": [
        {
          "output_type": "execute_result",
          "data": {
            "text/plain": [
              "-305.00000000000006"
            ]
          },
          "metadata": {},
          "execution_count": 8
        }
      ]
    },
    {
      "cell_type": "code",
      "source": [
        "np.linalg.inv(a)"
      ],
      "metadata": {
        "colab": {
          "base_uri": "https://localhost:8080/"
        },
        "id": "4wHcUOWlOEGy",
        "outputId": "e144f3ae-9cfa-456f-a148-8a73149dd7f7"
      },
      "execution_count": 9,
      "outputs": [
        {
          "output_type": "execute_result",
          "data": {
            "text/plain": [
              "array([[-0.65245902,  0.26557377,  0.03278689,  0.06229508],\n",
              "       [ 1.45901639, -0.57377049,  0.21311475, -0.29508197],\n",
              "       [-0.99016393,  0.33770492, -0.13114754,  0.35081967],\n",
              "       [ 0.42622951, -0.03278689, -0.01639344, -0.13114754]])"
            ]
          },
          "metadata": {},
          "execution_count": 9
        }
      ]
    },
    {
      "cell_type": "code",
      "source": [
        "c=np.array([[2,1],[1,3]])\n",
        "np.linalg.matrix_rank(c)"
      ],
      "metadata": {
        "colab": {
          "base_uri": "https://localhost:8080/"
        },
        "id": "JDeoiFm_PNS2",
        "outputId": "e0390e0d-b031-4e3e-9e20-9589cca83f1a"
      },
      "execution_count": 10,
      "outputs": [
        {
          "output_type": "execute_result",
          "data": {
            "text/plain": [
              "2"
            ]
          },
          "metadata": {},
          "execution_count": 10
        }
      ]
    },
    {
      "cell_type": "code",
      "source": [
        "np.linalg.matrix_rank(a)"
      ],
      "metadata": {
        "colab": {
          "base_uri": "https://localhost:8080/"
        },
        "id": "AEk2DlbIOI7j",
        "outputId": "4a24ce03-2c10-402c-a636-aa8b645cff95"
      },
      "execution_count": 11,
      "outputs": [
        {
          "output_type": "execute_result",
          "data": {
            "text/plain": [
              "4"
            ]
          },
          "metadata": {},
          "execution_count": 11
        }
      ]
    },
    {
      "cell_type": "code",
      "source": [
        "np.linalg.eig(a)"
      ],
      "metadata": {
        "colab": {
          "base_uri": "https://localhost:8080/"
        },
        "id": "9cma21e6OQUa",
        "outputId": "3475d625-8717-445c-da4c-a7b2afdae2c7"
      },
      "execution_count": 12,
      "outputs": [
        {
          "output_type": "execute_result",
          "data": {
            "text/plain": [
              "EigResult(eigenvalues=array([17.15147346+0.j        , -2.69594662+4.01785143j,\n",
              "       -2.69594662-4.01785143j, -0.75958022+0.j        ]), eigenvectors=array([[-0.29989893+0.j        ,  0.20243781-0.07604802j,\n",
              "         0.20243781+0.07604802j,  0.30293226+0.j        ],\n",
              "       [-0.61743666+0.j        ,  0.40060875-0.39521081j,\n",
              "         0.40060875+0.39521081j, -0.79207224+0.j        ],\n",
              "       [-0.50397862+0.j        , -0.62432249+0.j        ,\n",
              "        -0.62432249-0.j        ,  0.51531521+0.j        ],\n",
              "       [-0.52425009+0.j        ,  0.15727507+0.47121402j,\n",
              "         0.15727507-0.47121402j, -0.12370869+0.j        ]]))"
            ]
          },
          "metadata": {},
          "execution_count": 12
        }
      ]
    },
    {
      "cell_type": "code",
      "source": [],
      "metadata": {
        "id": "L8Y4ZUP1OUAC"
      },
      "execution_count": 12,
      "outputs": []
    }
  ]
}