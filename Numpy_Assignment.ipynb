{
  "cells": [
    {
      "cell_type": "markdown",
      "metadata": {
        "id": "view-in-github",
        "colab_type": "text"
      },
      "source": [
        "<a href=\"https://colab.research.google.com/github/Pranav210905/NumPy/blob/main/Numpy_Assignment.ipynb\" target=\"_parent\"><img src=\"https://colab.research.google.com/assets/colab-badge.svg\" alt=\"Open In Colab\"/></a>"
      ]
    },
    {
      "cell_type": "markdown",
      "source": [
        "# Numpy Assignment\n",
        "\n",
        "---\n",
        "\n",
        "**Instructions**\n",
        "\n",
        "1. **Read Each Question Carefully**: Understand what each question is asking before starting.\n",
        "\n",
        "2. **Complete the Functions**: For each question, you’ll find a partially completed function in the code cell. Fill in the missing parts to complete the function according to the requirements.\n",
        "\n",
        "3. **Test Your Function**: After completing each function, run the cell to test if your function works correctly.\n",
        "\n",
        "4. **Answer All Questions**: Ensure you complete all functions. Each question targets different aspects of NumPy.\n",
        "\n",
        "5. **Download Your Notebook**: Once you’ve finished and tested all functions, download your notebook file (.ipynb) by selecting `File > Download > Download .ipynb`.\n",
        "\n",
        "6. **Submit Your Work**: Upload the downloaded `.ipynb` file to the designated platform for submission.\n",
        "\n",
        "7. **Verify Your Submission**: Check that you have submitted the correct file and that it is not corrupted. Resubmit if necessary.\n",
        "\n",
        "Good luck, and happy coding!\n",
        "\n",
        "---"
      ],
      "metadata": {
        "id": "3UFBrs7PJ36J"
      },
      "id": "3UFBrs7PJ36J"
    },
    {
      "cell_type": "code",
      "execution_count": 1,
      "id": "6df786b9",
      "metadata": {
        "id": "6df786b9"
      },
      "outputs": [],
      "source": [
        "# run this code cell\n",
        "import numpy as np"
      ]
    },
    {
      "cell_type": "markdown",
      "id": "45fcc706",
      "metadata": {
        "id": "45fcc706"
      },
      "source": [
        "**1.Create a function desc which takes an ndarray salaries as argument and prints mean, median, variance and standard deviation of salaries** <br>\n",
        "- Input  : An ndarray of salaries <br>\n",
        "- Output : mean , median, variance and standard deviation"
      ]
    },
    {
      "cell_type": "code",
      "execution_count": 5,
      "id": "6f2f4242",
      "metadata": {
        "id": "6f2f4242"
      },
      "outputs": [],
      "source": [
        "# Complete this function\n",
        "def desc(salaries):\n",
        "  a=salaries.mean()\n",
        "  b=np.median(salaries)\n",
        "  c=salaries.var()\n",
        "  d=salaries.std()\n",
        "  return a,b,c,d\n"
      ]
    },
    {
      "cell_type": "code",
      "execution_count": 7,
      "id": "e34149fd",
      "metadata": {
        "id": "e34149fd",
        "outputId": "48f69304-051e-4ece-d4d6-3cf4e929245f",
        "colab": {
          "base_uri": "https://localhost:8080/"
        }
      },
      "outputs": [
        {
          "output_type": "execute_result",
          "data": {
            "text/plain": [
              "(75000.0, 75000.0, 291666666.6666667, 17078.25127659933)"
            ]
          },
          "metadata": {},
          "execution_count": 7
        }
      ],
      "source": [
        "# Execute this code cell (DO NOT MODIFY)\n",
        "salaries = np.array([50000,60000,70000,80000,90000,100000])\n",
        "desc(salaries)"
      ]
    },
    {
      "cell_type": "markdown",
      "id": "4403d0f3",
      "metadata": {
        "id": "4403d0f3"
      },
      "source": [
        "---\n",
        "---\n",
        "**2.Create a function quartiles which takes an ndarray salaries as argument and prints first, second and third quartiles** <br>\n",
        "- Input  : An ndarray of salaries <br>\n",
        "- Output : q1, q2 and q3"
      ]
    },
    {
      "cell_type": "code",
      "execution_count": 12,
      "id": "188c1a2b",
      "metadata": {
        "id": "188c1a2b"
      },
      "outputs": [],
      "source": [
        "def quartiles(salaries):\n",
        "  e= np.quantile(salaries, .50)\n",
        "  f=np.quantile(salaries, .25)\n",
        "  g=np.quantile(salaries, .75)\n",
        "  return e,f,g"
      ]
    },
    {
      "cell_type": "code",
      "execution_count": 13,
      "id": "1441c917",
      "metadata": {
        "id": "1441c917",
        "outputId": "10f5b93b-5c80-4ec0-fd38-f7ae05f018e5",
        "colab": {
          "base_uri": "https://localhost:8080/"
        }
      },
      "outputs": [
        {
          "output_type": "execute_result",
          "data": {
            "text/plain": [
              "(75000.0, 62500.0, 87500.0)"
            ]
          },
          "metadata": {},
          "execution_count": 13
        }
      ],
      "source": [
        "salaries = np.array([50000,60000,70000,80000,90000,100000])\n",
        "quartiles(salaries)"
      ]
    },
    {
      "cell_type": "markdown",
      "id": "a4292c15",
      "metadata": {
        "id": "a4292c15"
      },
      "source": [
        "---\n",
        "---\n",
        "**3.Create a function z_scores which takes an ndarray as argument and returns an ndarray having the z scores of all elements** <br>\n",
        "- Input  : An ndarray of elements <br>\n",
        "- Output : An ndarray having z scores"
      ]
    },
    {
      "cell_type": "code",
      "execution_count": 14,
      "id": "02692077",
      "metadata": {
        "id": "02692077"
      },
      "outputs": [],
      "source": [
        "def z_scores(nums):\n",
        "  t=nums.std()\n",
        "  o=nums.mean()\n",
        "  p=nums-0\n",
        "  z_scores=p/t\n",
        "  return z_scores"
      ]
    },
    {
      "cell_type": "code",
      "execution_count": 15,
      "id": "a0243e9a",
      "metadata": {
        "id": "a0243e9a",
        "outputId": "4f36bffe-bf6f-4c6b-cc0d-92be9ea545bd",
        "colab": {
          "base_uri": "https://localhost:8080/"
        }
      },
      "outputs": [
        {
          "output_type": "execute_result",
          "data": {
            "text/plain": [
              "array([0.46291005, 0.9258201 , 0.        , 1.8516402 , 2.31455025,\n",
              "       2.7774603 ])"
            ]
          },
          "metadata": {},
          "execution_count": 15
        }
      ],
      "source": [
        "nums = np.array([10,20,0,40,50,60])\n",
        "z_scores(nums)"
      ]
    },
    {
      "cell_type": "markdown",
      "id": "a8aad42f",
      "metadata": {
        "id": "a8aad42f"
      },
      "source": [
        "---\n",
        "---\n",
        "**4.Create a function variance which takes an ndarray of salaries and returns the variance without using the inbuilt variance function.** <br>\n",
        " - Input  : An ndarray\n",
        " - Output : variance"
      ]
    },
    {
      "cell_type": "code",
      "execution_count": 20,
      "id": "be31db9f",
      "metadata": {
        "id": "be31db9f"
      },
      "outputs": [],
      "source": [
        "def variance(salaries):\n",
        "  g=salaries.mean()\n",
        "  m=salaries-g\n",
        "  u=m**2\n",
        "  i=u.sum()\n",
        "  f=salaries.size\n",
        "  var=i/f\n",
        "  return var"
      ]
    },
    {
      "cell_type": "code",
      "execution_count": 21,
      "id": "5cf70983",
      "metadata": {
        "id": "5cf70983",
        "outputId": "a4133ee6-e393-4d2e-bc67-422a33b3f3e4",
        "colab": {
          "base_uri": "https://localhost:8080/"
        }
      },
      "outputs": [
        {
          "output_type": "execute_result",
          "data": {
            "text/plain": [
              "200000000.0"
            ]
          },
          "metadata": {},
          "execution_count": 21
        }
      ],
      "source": [
        "salaries = np.array([70000,80000,90000,100000,110000])\n",
        "variance(salaries)"
      ]
    },
    {
      "cell_type": "markdown",
      "id": "6ca4ad74",
      "metadata": {
        "id": "6ca4ad74"
      },
      "source": [
        "---\n",
        "---\n",
        "**5.Create a function comp_salaries which takes an ndarray of salaries and returns all salaries which are higher than the mean salary.** <br>\n",
        " - Input  : An ndarray of salaries\n",
        " - Output : an ndarray of salaries higher than the mean"
      ]
    },
    {
      "cell_type": "code",
      "execution_count": 22,
      "id": "5f190a5e",
      "metadata": {
        "id": "5f190a5e"
      },
      "outputs": [],
      "source": [
        "def comp_salaries(salaries):\n",
        "  v=salaries.mean()\n",
        "  higher_salaries = salaries[salaries>v]\n",
        "  return higher_salaries"
      ]
    },
    {
      "cell_type": "code",
      "execution_count": 23,
      "id": "9de69074",
      "metadata": {
        "id": "9de69074",
        "outputId": "482f8bf7-2250-4e60-8a3f-061aa97798ac",
        "colab": {
          "base_uri": "https://localhost:8080/"
        }
      },
      "outputs": [
        {
          "output_type": "execute_result",
          "data": {
            "text/plain": [
              "array([76000, 85000, 92000, 94000])"
            ]
          },
          "metadata": {},
          "execution_count": 23
        }
      ],
      "source": [
        "salaries = np.array([76000,69000,40000,58000,85000,92000,94000])\n",
        "comp_salaries(salaries)"
      ]
    },
    {
      "cell_type": "markdown",
      "id": "3b1cfa5e",
      "metadata": {
        "id": "3b1cfa5e"
      },
      "source": [
        "---\n",
        "---\n",
        "**6.Create a function cum_sum_diff which takes two ndarrays of same size and returns the difference between cumulative sums at each position.** <br>\n",
        "- Input  : two ndarrays of having same number of elements\n",
        "- Output : difference in cumulative sums"
      ]
    },
    {
      "cell_type": "code",
      "execution_count": 24,
      "id": "55828d3b",
      "metadata": {
        "id": "55828d3b"
      },
      "outputs": [],
      "source": [
        "def cum_sum_diff(a1, a2):\n",
        "  y=a1.cumsum()\n",
        "  z=a2.cumsum()\n",
        "  diff = y-z\n",
        "  return diff"
      ]
    },
    {
      "cell_type": "code",
      "execution_count": 25,
      "id": "f1154cbe",
      "metadata": {
        "id": "f1154cbe",
        "outputId": "e5815585-26f2-4e9b-a7c4-b42828a29348",
        "colab": {
          "base_uri": "https://localhost:8080/"
        }
      },
      "outputs": [
        {
          "output_type": "execute_result",
          "data": {
            "text/plain": [
              "array([-2, -1,  5,  3,  1, -3, 10])"
            ]
          },
          "metadata": {},
          "execution_count": 25
        }
      ],
      "source": [
        "a1 = np.array([10,12,14,8,7,9,20])\n",
        "a2 = np.array([12,11,8,10,9,13,7])\n",
        "cum_sum_diff(a1,a2)"
      ]
    },
    {
      "cell_type": "markdown",
      "id": "2addb776",
      "metadata": {
        "id": "2addb776"
      },
      "source": [
        "---\n",
        "---\n",
        "**7.Create two ndarrays a1 and a2 each of shape 4,3 using the randint function having integers between 10 to 50 and concatenate them by axis 0.**"
      ]
    },
    {
      "cell_type": "code",
      "execution_count": 27,
      "id": "641415fc",
      "metadata": {
        "id": "641415fc",
        "outputId": "7507832a-0888-4456-f4a5-34c5cb022455",
        "colab": {
          "base_uri": "https://localhost:8080/"
        }
      },
      "outputs": [
        {
          "output_type": "execute_result",
          "data": {
            "text/plain": [
              "array([[22, 15, 23],\n",
              "       [38, 34, 43],\n",
              "       [29, 43, 27],\n",
              "       [37, 27, 41],\n",
              "       [16, 38, 12],\n",
              "       [18, 10, 45],\n",
              "       [42, 28, 17],\n",
              "       [45, 33, 37]])"
            ]
          },
          "metadata": {},
          "execution_count": 27
        }
      ],
      "source": [
        "a1=np.random.randint(10,50,(4,3))\n",
        "a2=np.random.randint(10,50,(4,3))\n",
        "np.concatenate((a1,a2),axis=0)"
      ]
    },
    {
      "cell_type": "markdown",
      "id": "5f37a974",
      "metadata": {
        "id": "5f37a974"
      },
      "source": [
        "---\n",
        "---\n",
        "**8.Create a function compare which takes two ndarrays as arguments having marks of 2 students in 5 subjects each and prints a list having 5 tuples where each tuple contains the max and min marks recived in each subject.**\n",
        "- Input  : two ndarrays having 5 integers each\n",
        "- Output : a list with 5 tuples\n",
        "\n",
        "- sample:\n",
        "    - input:\n",
        "        - student 1 : [80,90,70,75,60]\n",
        "        - student 2 : [75,92,65,90,95]\n",
        "    - output:\n",
        "        - [(80, 75), (92, 90), (70, 65), (90, 75), (95, 60)]"
      ]
    },
    {
      "cell_type": "code",
      "execution_count": 49,
      "id": "025a6442",
      "metadata": {
        "id": "025a6442"
      },
      "outputs": [],
      "source": [
        "def compare(a1, a2):\n",
        "  result=[(max(s1,s2),min(s1,s2)) for s1,s2 in zip(a1,a2)]\n",
        "  return result"
      ]
    },
    {
      "cell_type": "code",
      "execution_count": 50,
      "id": "18e0a723",
      "metadata": {
        "id": "18e0a723",
        "outputId": "e2c96907-2202-4da6-8ffa-0f2e26fc71e4",
        "colab": {
          "base_uri": "https://localhost:8080/"
        }
      },
      "outputs": [
        {
          "output_type": "execute_result",
          "data": {
            "text/plain": [
              "[(80, 75), (92, 90), (70, 65), (90, 75), (95, 60)]"
            ]
          },
          "metadata": {},
          "execution_count": 50
        }
      ],
      "source": [
        "student1 = np.array([80,90,70,75,60])\n",
        "student2 = np.array([75,92,65,90,95])\n",
        "compare(student1, student2)"
      ]
    },
    {
      "cell_type": "markdown",
      "id": "a49b2b45",
      "metadata": {
        "id": "a49b2b45"
      },
      "source": [
        "---\n",
        "---\n",
        "**9.Create a function max_min_pos which takes an ndarray as argument and returns the position of maximum element and minimum element from the ndarray.**\n",
        "- Input  : An ndarray of integers\n",
        "- Output : A tuple having index of max and min element"
      ]
    },
    {
      "cell_type": "code",
      "execution_count": 51,
      "id": "b0534607",
      "metadata": {
        "id": "b0534607"
      },
      "outputs": [],
      "source": [
        "def max_min_pos(nums):\n",
        "  pos_max=np.argmax(nums)\n",
        "  pos_min = np.argmin(nums)\n",
        "  return (pos_max, pos_min)"
      ]
    },
    {
      "cell_type": "code",
      "execution_count": 53,
      "id": "945cf77b",
      "metadata": {
        "id": "945cf77b",
        "outputId": "5dfaf1e3-c912-45f2-9d5e-d812684af180",
        "colab": {
          "base_uri": "https://localhost:8080/"
        }
      },
      "outputs": [
        {
          "output_type": "execute_result",
          "data": {
            "text/plain": [
              "(4, 1)"
            ]
          },
          "metadata": {},
          "execution_count": 53
        }
      ],
      "source": [
        "nums = np.array([80,10,60,40,90,30,20,50])\n",
        "max_min_pos(nums)"
      ]
    },
    {
      "cell_type": "markdown",
      "id": "2dedc333",
      "metadata": {
        "id": "2dedc333"
      },
      "source": [
        "---\n",
        "---\n",
        "**10.Create a function 'between' that takes an ndarray nums and two integers A and B indicating  a range(B > A). The function should return all elements between A and B present in nums.**\n",
        "- Input : An ndarray having n elements\n",
        "- Output : Elements between A and B"
      ]
    },
    {
      "cell_type": "code",
      "execution_count": 73,
      "id": "314259ad",
      "metadata": {
        "id": "314259ad"
      },
      "outputs": [],
      "source": [
        "def between(nums,A,B):\n",
        "  result= nums[(nums>A) & (nums<B)]\n",
        "  return result"
      ]
    },
    {
      "cell_type": "code",
      "execution_count": 74,
      "id": "a9c869b7",
      "metadata": {
        "id": "a9c869b7",
        "outputId": "17a51943-6a51-456a-b51a-fa3a1753c5a9",
        "colab": {
          "base_uri": "https://localhost:8080/"
        }
      },
      "outputs": [
        {
          "output_type": "execute_result",
          "data": {
            "text/plain": [
              "array([20, 30])"
            ]
          },
          "metadata": {},
          "execution_count": 74
        }
      ],
      "source": [
        "nums = np.array([10,40,20,30])\n",
        "between(nums, 15, 35)"
      ]
    },
    {
      "cell_type": "code",
      "execution_count": null,
      "id": "40fe5d30",
      "metadata": {
        "id": "40fe5d30"
      },
      "outputs": [],
      "source": []
    }
  ],
  "metadata": {
    "kernelspec": {
      "display_name": "Python 3 (ipykernel)",
      "language": "python",
      "name": "python3"
    },
    "language_info": {
      "codemirror_mode": {
        "name": "ipython",
        "version": 3
      },
      "file_extension": ".py",
      "mimetype": "text/x-python",
      "name": "python",
      "nbconvert_exporter": "python",
      "pygments_lexer": "ipython3",
      "version": "3.9.7"
    },
    "colab": {
      "provenance": [],
      "include_colab_link": true
    }
  },
  "nbformat": 4,
  "nbformat_minor": 5
}