{
  "nbformat": 4,
  "nbformat_minor": 0,
  "metadata": {
    "colab": {
      "provenance": [],
      "include_colab_link": true
    },
    "kernelspec": {
      "name": "python3",
      "display_name": "Python 3"
    },
    "language_info": {
      "name": "python"
    }
  },
  "cells": [
    {
      "cell_type": "markdown",
      "metadata": {
        "id": "view-in-github",
        "colab_type": "text"
      },
      "source": [
        "<a href=\"https://colab.research.google.com/github/Pranav210905/NumPy/blob/main/Numpy_Practice_3_.ipynb\" target=\"_parent\"><img src=\"https://colab.research.google.com/assets/colab-badge.svg\" alt=\"Open In Colab\"/></a>"
      ]
    },
    {
      "cell_type": "markdown",
      "source": [
        "Welcome to the NumPy practice exercise! Please follow these instructions carefully to complete your assignment:\n",
        "\n",
        "1. **Read Each Question Carefully**: Each question is designed to test different aspects of your NumPy skills. Make sure to understand what is being asked before you start coding.\n",
        "\n",
        "2. **Write Your Code in the Provided Cells**: For each question, you will find a corresponding code cell where you should write your solution. Do not modify any other part of the notebook.\n",
        "\n",
        "3. **Run Your Code**: After writing your code, run the cell to ensure that your solution works as expected. Check the output and make sure it meets the requirements specified in the question.\n",
        "\n",
        "4. **Complete All Questions**: Make sure you answer all the questions provided. Each question has been included to assess a different skill or concept in NumPy.\n",
        "\n",
        "5. **Download Your Notebook**: Once you have completed all questions and verified that your solutions are correct, download your notebook file (.ipynb). You can do this by selecting `File > Download > Download .ipynb` from the menu.\n",
        "\n",
        "6. **Submit Your Work**: Upload the downloaded `.ipynb` file to the designated learning platform for submission.\n",
        "\n",
        "7. **Check Your Submission**: Ensure that you have submitted the correct file and that it is not corrupted. If there are any issues with the file, you may need to resubmit.\n",
        "\n",
        "Good luck, and happy coding!"
      ],
      "metadata": {
        "id": "o3lXLzMUPXIV"
      }
    },
    {
      "cell_type": "markdown",
      "source": [
        "## Import library\n",
        "- Do not modify the given attributes. Execute the below code cells sequencially to get the data."
      ],
      "metadata": {
        "id": "Hf2Wc35UgGD2"
      }
    },
    {
      "cell_type": "code",
      "source": [
        "import numpy as np"
      ],
      "metadata": {
        "id": "vuyLKwkwzBV7"
      },
      "execution_count": 1,
      "outputs": []
    },
    {
      "cell_type": "markdown",
      "source": [
        "Q.1 Create a 5x5 array, with numbers ranging from 1-25 and save it in `matrix` variable.\n",
        "(Use the same `matrix` creation code in all the code cells were questions are based on matrix.)"
      ],
      "metadata": {
        "id": "k1C3DajogUjR"
      }
    },
    {
      "cell_type": "code",
      "source": [
        "# write your code here\n",
        "matrix =np.arange(1,26).reshape(5,5)\n",
        "print(matrix)"
      ],
      "metadata": {
        "id": "_BJZtMA3zxNH",
        "colab": {
          "base_uri": "https://localhost:8080/"
        },
        "outputId": "aa22f9aa-602e-40a6-97cc-ff2183e81293"
      },
      "execution_count": 2,
      "outputs": [
        {
          "output_type": "stream",
          "name": "stdout",
          "text": [
            "[[ 1  2  3  4  5]\n",
            " [ 6  7  8  9 10]\n",
            " [11 12 13 14 15]\n",
            " [16 17 18 19 20]\n",
            " [21 22 23 24 25]]\n"
          ]
        }
      ]
    },
    {
      "cell_type": "markdown",
      "source": [
        "Q.2 select the subset from `matrix`\n",
        "```python\n",
        "Expected output\n",
        "[[12,13,14,15],\n",
        " [17,18,18,20],\n",
        " [22,23,24,25]]\n",
        "```"
      ],
      "metadata": {
        "id": "gf1j1Axbgjqc"
      }
    },
    {
      "cell_type": "code",
      "source": [
        "# write your code here\n",
        "subset_q2 =matrix[2:,1:]\n",
        "print(subset_q2)"
      ],
      "metadata": {
        "id": "QH7-PV1tz-iQ",
        "colab": {
          "base_uri": "https://localhost:8080/"
        },
        "outputId": "7dafcdce-58c3-42b1-972e-19dd39befe23"
      },
      "execution_count": 7,
      "outputs": [
        {
          "output_type": "stream",
          "name": "stdout",
          "text": [
            "[[12 13 14 15]\n",
            " [17 18 19 20]\n",
            " [22 23 24 25]]\n"
          ]
        }
      ]
    },
    {
      "cell_type": "markdown",
      "source": [
        "Q.3 Select the value 20 from the `matrix`"
      ],
      "metadata": {
        "id": "pMbeh4-UhGGl"
      }
    },
    {
      "cell_type": "code",
      "source": [
        "# write your code here\n",
        "value_20 =matrix[3][4]\n",
        "print(value_20)"
      ],
      "metadata": {
        "id": "dm93VE1y0GqH",
        "colab": {
          "base_uri": "https://localhost:8080/"
        },
        "outputId": "d4c92fca-1e89-48ff-fd09-a6814dc19039"
      },
      "execution_count": 11,
      "outputs": [
        {
          "output_type": "stream",
          "name": "stdout",
          "text": [
            "20\n"
          ]
        }
      ]
    },
    {
      "cell_type": "markdown",
      "source": [
        "Q.4 Select the below subset.(Use `matrix`)\n",
        "```python\n",
        "Expected output\n",
        "[[2],\n",
        " [7],\n",
        " [12]]\n",
        "```\n"
      ],
      "metadata": {
        "id": "BcbS6z8ChM_r"
      }
    },
    {
      "cell_type": "code",
      "source": [
        "# write your code here\n",
        "subset_q4 =matrix[:3,1].reshape(3,1)\n",
        "print(subset_q4)"
      ],
      "metadata": {
        "id": "01XCTkNq5Fri",
        "colab": {
          "base_uri": "https://localhost:8080/"
        },
        "outputId": "cdd818d7-38d3-4b67-ab6f-46defa3fa72d"
      },
      "execution_count": 18,
      "outputs": [
        {
          "output_type": "stream",
          "name": "stdout",
          "text": [
            "[[ 2]\n",
            " [ 7]\n",
            " [12]]\n"
          ]
        }
      ]
    },
    {
      "cell_type": "markdown",
      "source": [
        "Q.5 Select the below subset. (Use `matrix`)\n",
        "```python\n",
        "Expected output\n",
        "[21,22,23,24,25]\n",
        "```"
      ],
      "metadata": {
        "id": "sdYFbRE9hoDe"
      }
    },
    {
      "cell_type": "code",
      "source": [
        "# write your code here\n",
        "subset_q5 =matrix[4]\n",
        "print(subset_q5)"
      ],
      "metadata": {
        "id": "uifXjTcE5I_U",
        "colab": {
          "base_uri": "https://localhost:8080/"
        },
        "outputId": "d7c59aa8-a722-4b7f-9648-01748b27e060"
      },
      "execution_count": 20,
      "outputs": [
        {
          "output_type": "stream",
          "name": "stdout",
          "text": [
            "[21 22 23 24 25]\n"
          ]
        }
      ]
    },
    {
      "cell_type": "markdown",
      "source": [
        "Q.6 Select the subset below (Use `matrix`)\n",
        "```python\n",
        "Expected output\n",
        "[[16,17,18,19,20],\n",
        " [21,22,23,24,25]]\n",
        "```\n",
        "\n"
      ],
      "metadata": {
        "id": "kLtHZ-Zlh2Xn"
      }
    },
    {
      "cell_type": "code",
      "source": [
        "# write your code here\n",
        "subset_q6 =matrix[3:]\n",
        "print(subset_q6)"
      ],
      "metadata": {
        "id": "QU9t3IjN5NAC",
        "colab": {
          "base_uri": "https://localhost:8080/"
        },
        "outputId": "91ca13a1-4f48-44b1-c84f-b2f44793cbe3"
      },
      "execution_count": 21,
      "outputs": [
        {
          "output_type": "stream",
          "name": "stdout",
          "text": [
            "[[16 17 18 19 20]\n",
            " [21 22 23 24 25]]\n"
          ]
        }
      ]
    },
    {
      "cell_type": "markdown",
      "source": [
        "Q.7 Get the sum of all the values in `matrix`. (Expected Ans : 325)"
      ],
      "metadata": {
        "id": "s9euxthkiWfE"
      }
    },
    {
      "cell_type": "code",
      "source": [
        "# write your code here\n",
        "sum_matrix =matrix.sum()\n",
        "print(sum_matrix)"
      ],
      "metadata": {
        "id": "N_sZcTjO5TJS",
        "colab": {
          "base_uri": "https://localhost:8080/"
        },
        "outputId": "9dec5eb1-3375-46b2-82ae-028bee44ee75"
      },
      "execution_count": 23,
      "outputs": [
        {
          "output_type": "stream",
          "name": "stdout",
          "text": [
            "325\n"
          ]
        }
      ]
    },
    {
      "cell_type": "markdown",
      "source": [
        "Q.8 Get the standard deviation of the values in `matrix`(Expected Ans : 7.211102551)"
      ],
      "metadata": {
        "id": "LsMfKuulih38"
      }
    },
    {
      "cell_type": "code",
      "source": [
        "# write your code here\n",
        "std_dev_matrix =matrix.std()\n",
        "print(std_dev_matrix)"
      ],
      "metadata": {
        "id": "bdWB1R6X5Vih",
        "colab": {
          "base_uri": "https://localhost:8080/"
        },
        "outputId": "61bf7ad0-06d7-4d29-8dc0-b0025cf215a5"
      },
      "execution_count": 24,
      "outputs": [
        {
          "output_type": "stream",
          "name": "stdout",
          "text": [
            "7.211102550927978\n"
          ]
        }
      ]
    },
    {
      "cell_type": "markdown",
      "source": [
        "Q.9 Get the sum of all the columns in `matrix`. (Expected Ans: array([55,60,65,70,75])"
      ],
      "metadata": {
        "id": "eUve8iSbiwZ5"
      }
    },
    {
      "cell_type": "code",
      "source": [
        "# write your code here\n",
        "sum_columns =matrix.sum(axis=0)\n",
        "print(sum_columns)"
      ],
      "metadata": {
        "id": "39u0Qk5I5a79",
        "colab": {
          "base_uri": "https://localhost:8080/"
        },
        "outputId": "cc4403f7-0307-4e34-8447-a14e6fd463e9"
      },
      "execution_count": 27,
      "outputs": [
        {
          "output_type": "stream",
          "name": "stdout",
          "text": [
            "[55 60 65 70 75]\n"
          ]
        }
      ]
    },
    {
      "cell_type": "markdown",
      "source": [
        "Q.10 Reverse a 1D array of 1 to 10."
      ],
      "metadata": {
        "id": "lh6rn-DvjFod"
      }
    },
    {
      "cell_type": "code",
      "source": [
        "# write your code here\n",
        "array_to_reverse =np.arange(1,11)\n",
        "reversed_array =array_to_reverse[::-1]\n",
        "print(reversed_array)"
      ],
      "metadata": {
        "id": "Jeux35Vt5fba",
        "colab": {
          "base_uri": "https://localhost:8080/"
        },
        "outputId": "133a917a-01dc-43a9-8660-4a8b76616a46"
      },
      "execution_count": 33,
      "outputs": [
        {
          "output_type": "stream",
          "name": "stdout",
          "text": [
            "[10  9  8  7  6  5  4  3  2  1]\n"
          ]
        }
      ]
    },
    {
      "cell_type": "markdown",
      "source": [
        "Q.11 Find indices of non-zero elements from [10,20,0,0,40,0]"
      ],
      "metadata": {
        "id": "wkFz7Rp0jLC0"
      }
    },
    {
      "cell_type": "code",
      "source": [
        "# write your code here\n",
        "non_zero_indices =np.array( [10,20,0,0,40,0])\n",
        "print(non_zero_indices[non_zero_indices>0])"
      ],
      "metadata": {
        "id": "lyPUuKgT5lKS",
        "colab": {
          "base_uri": "https://localhost:8080/"
        },
        "outputId": "4ccc7943-c06e-41f3-a409-218b766a3f41"
      },
      "execution_count": 36,
      "outputs": [
        {
          "output_type": "stream",
          "name": "stdout",
          "text": [
            "[10 20 40]\n"
          ]
        }
      ]
    },
    {
      "cell_type": "markdown",
      "source": [
        "Q.12 Create a 10x10 array with 1 on the border and 0 inside."
      ],
      "metadata": {
        "id": "Co8OTEJ6jf6e"
      }
    },
    {
      "cell_type": "code",
      "source": [
        "# write your code here\n",
        "bordered_array =np.ones((10,10))\n",
        "bordered_array[1:-1,1:-1]=0\n",
        "print(bordered_array)"
      ],
      "metadata": {
        "id": "KuKYt8QA5wKs",
        "colab": {
          "base_uri": "https://localhost:8080/"
        },
        "outputId": "53f3ff54-25e3-45ff-81b2-66ce232cc1e8"
      },
      "execution_count": 42,
      "outputs": [
        {
          "output_type": "stream",
          "name": "stdout",
          "text": [
            "[[1. 1. 1. 1. 1. 1. 1. 1. 1. 1.]\n",
            " [1. 0. 0. 0. 0. 0. 0. 0. 0. 1.]\n",
            " [1. 0. 0. 0. 0. 0. 0. 0. 0. 1.]\n",
            " [1. 0. 0. 0. 0. 0. 0. 0. 0. 1.]\n",
            " [1. 0. 0. 0. 0. 0. 0. 0. 0. 1.]\n",
            " [1. 0. 0. 0. 0. 0. 0. 0. 0. 1.]\n",
            " [1. 0. 0. 0. 0. 0. 0. 0. 0. 1.]\n",
            " [1. 0. 0. 0. 0. 0. 0. 0. 0. 1.]\n",
            " [1. 0. 0. 0. 0. 0. 0. 0. 0. 1.]\n",
            " [1. 1. 1. 1. 1. 1. 1. 1. 1. 1.]]\n"
          ]
        }
      ]
    },
    {
      "cell_type": "markdown",
      "source": [
        "Q. 13 Create 5x5 array and fill it with the cheakerboard pattern."
      ],
      "metadata": {
        "id": "3JLtpLvmjwyZ"
      }
    },
    {
      "cell_type": "code",
      "source": [
        "# write your code here\n",
        "checkerboard =np.zeros((5,5))\n",
        "checkerboard[1::2,::2]=1\n",
        "checkerboard[::2,1::2]=1\n",
        "print(checkerboard)\n"
      ],
      "metadata": {
        "id": "MVh7FqWU53-L",
        "colab": {
          "base_uri": "https://localhost:8080/"
        },
        "outputId": "54632506-9584-403f-b5af-197c4d0c81eb"
      },
      "execution_count": 52,
      "outputs": [
        {
          "output_type": "stream",
          "name": "stdout",
          "text": [
            "[[0. 1. 0. 1. 0.]\n",
            " [1. 0. 1. 0. 1.]\n",
            " [0. 1. 0. 1. 0.]\n",
            " [1. 0. 1. 0. 1.]\n",
            " [0. 1. 0. 1. 0.]]\n"
          ]
        }
      ]
    },
    {
      "cell_type": "markdown",
      "source": [
        "Q.14 Create a numpy array of size 10 with values ranging from 0 to 1, both excluded."
      ],
      "metadata": {
        "id": "1PjyOeDAj8KP"
      }
    },
    {
      "cell_type": "code",
      "source": [
        "# write your code here\n",
        "excluded_array =np.random.rand(10)\n",
        "print(excluded_array)"
      ],
      "metadata": {
        "id": "fktgLBDu5-ty",
        "colab": {
          "base_uri": "https://localhost:8080/"
        },
        "outputId": "d17ac487-1b5e-48ce-de5d-d12154819f0e"
      },
      "execution_count": 59,
      "outputs": [
        {
          "output_type": "stream",
          "name": "stdout",
          "text": [
            "[0.02387227 0.70738427 0.75814304 0.81487582 0.76656492 0.29614212\n",
            " 0.84277182 0.07822372 0.81593652 0.12203628]\n"
          ]
        }
      ]
    },
    {
      "cell_type": "markdown",
      "source": [
        "Q.15 Create the matrix as array_5x5 (0-25) and swap first two rows."
      ],
      "metadata": {
        "id": "-RHfc3ymkh_C"
      }
    },
    {
      "cell_type": "code",
      "source": [
        "# write your code here\n",
        "array_5x5 =np.arange(0,25).reshape(5,5)\n",
        "array_5x5[[0,2]]=array_5x5[[2,0]]\n",
        "print(array_5x5)"
      ],
      "metadata": {
        "id": "WaQd7O7K931D",
        "colab": {
          "base_uri": "https://localhost:8080/"
        },
        "outputId": "c5a2ab58-951a-41ad-b33e-3bcadad96e81"
      },
      "execution_count": 68,
      "outputs": [
        {
          "output_type": "stream",
          "name": "stdout",
          "text": [
            "[[10 11 12 13 14]\n",
            " [ 5  6  7  8  9]\n",
            " [ 0  1  2  3  4]\n",
            " [15 16 17 18 19]\n",
            " [20 21 22 23 24]]\n"
          ]
        }
      ]
    },
    {
      "cell_type": "markdown",
      "source": [
        "# End!"
      ],
      "metadata": {
        "id": "3RtCSNU_nZGs"
      }
    }
  ]
}