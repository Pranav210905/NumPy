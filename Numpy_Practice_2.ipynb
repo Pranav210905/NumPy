{
  "nbformat": 4,
  "nbformat_minor": 0,
  "metadata": {
    "colab": {
      "provenance": [],
      "include_colab_link": true
    },
    "kernelspec": {
      "name": "python3",
      "display_name": "Python 3"
    },
    "language_info": {
      "name": "python"
    }
  },
  "cells": [
    {
      "cell_type": "markdown",
      "metadata": {
        "id": "view-in-github",
        "colab_type": "text"
      },
      "source": [
        "<a href=\"https://colab.research.google.com/github/Pranav210905/NumPy/blob/main/Numpy_Practice_2.ipynb\" target=\"_parent\"><img src=\"https://colab.research.google.com/assets/colab-badge.svg\" alt=\"Open In Colab\"/></a>"
      ]
    },
    {
      "cell_type": "markdown",
      "source": [
        "Welcome to the NumPy practice exercise! Please follow these instructions carefully to complete your assignment:\n",
        "\n",
        "1. **Read Each Question Carefully**: Each question is designed to test different aspects of your NumPy skills. Make sure to understand what is being asked before you start coding.\n",
        "\n",
        "2. **Write Your Code in the Provided Cells**: For each question, you will find a corresponding code cell where you should write your solution. Do not modify any other part of the notebook.\n",
        "\n",
        "3. **Run Your Code**: After writing your code, run the cell to ensure that your solution works as expected. Check the output and make sure it meets the requirements specified in the question.\n",
        "\n",
        "4. **Complete All Questions**: Make sure you answer all the questions provided. Each question has been included to assess a different skill or concept in NumPy.\n",
        "\n",
        "5. **Download Your Notebook**: Once you have completed all questions and verified that your solutions are correct, download your notebook file (.ipynb). You can do this by selecting `File > Download > Download .ipynb` from the menu.\n",
        "\n",
        "6. **Submit Your Work**: Upload the downloaded `.ipynb` file to the designated learning platform for submission.\n",
        "\n",
        "7. **Check Your Submission**: Ensure that you have submitted the correct file and that it is not corrupted. If there are any issues with the file, you may need to resubmit.\n",
        "\n",
        "Good luck, and happy coding!"
      ],
      "metadata": {
        "id": "o3lXLzMUPXIV"
      }
    },
    {
      "cell_type": "markdown",
      "source": [
        "Q1. Import Numpy as `np`"
      ],
      "metadata": {
        "id": "CpHe82s4eBTb"
      }
    },
    {
      "cell_type": "code",
      "execution_count": 1,
      "metadata": {
        "id": "qnzsP323dx5r"
      },
      "outputs": [],
      "source": [
        "import numpy as np"
      ]
    },
    {
      "cell_type": "markdown",
      "source": [
        "Q.2 Create a 5x5 array, with numbers ranging from 1-25 and save it in `matrix` variable.\n",
        "(Use `matrix` variable till question no 10.)"
      ],
      "metadata": {
        "id": "k1C3DajogUjR"
      }
    },
    {
      "cell_type": "code",
      "source": [
        "a=np.arange(1,26).reshape(5,5)\n",
        "a"
      ],
      "metadata": {
        "id": "RbzHoLqRgi8Q",
        "outputId": "d9439588-2d2c-4884-9965-556f16efe8ee",
        "colab": {
          "base_uri": "https://localhost:8080/"
        }
      },
      "execution_count": 3,
      "outputs": [
        {
          "output_type": "execute_result",
          "data": {
            "text/plain": [
              "array([[ 1,  2,  3,  4,  5],\n",
              "       [ 6,  7,  8,  9, 10],\n",
              "       [11, 12, 13, 14, 15],\n",
              "       [16, 17, 18, 19, 20],\n",
              "       [21, 22, 23, 24, 25]])"
            ]
          },
          "metadata": {},
          "execution_count": 3
        }
      ]
    },
    {
      "cell_type": "markdown",
      "source": [
        "Q.3 select the subset from `matrix`\n",
        "```python\n",
        "array([12,13,14,15],\n",
        "      [17,18,19,20],\n",
        "      [22,23,24,25])\n",
        "```"
      ],
      "metadata": {
        "id": "gf1j1Axbgjqc"
      }
    },
    {
      "cell_type": "code",
      "source": [
        "a[2:,1:]"
      ],
      "metadata": {
        "id": "6u9pvMsbhEu9",
        "outputId": "3674277a-5333-4da2-8371-cd56d88c5d11",
        "colab": {
          "base_uri": "https://localhost:8080/"
        }
      },
      "execution_count": 5,
      "outputs": [
        {
          "output_type": "execute_result",
          "data": {
            "text/plain": [
              "array([[12, 13, 14, 15],\n",
              "       [17, 18, 19, 20],\n",
              "       [22, 23, 24, 25]])"
            ]
          },
          "metadata": {},
          "execution_count": 5
        }
      ]
    },
    {
      "cell_type": "markdown",
      "source": [
        "Q.4 Select the value 20 from the `matrix`"
      ],
      "metadata": {
        "id": "pMbeh4-UhGGl"
      }
    },
    {
      "cell_type": "code",
      "source": [
        "a[3][4]"
      ],
      "metadata": {
        "id": "agxzVWv3hMHm",
        "outputId": "1e0ecc67-6ce7-4c3d-de79-6a06910e8795",
        "colab": {
          "base_uri": "https://localhost:8080/"
        }
      },
      "execution_count": 8,
      "outputs": [
        {
          "output_type": "execute_result",
          "data": {
            "text/plain": [
              "20"
            ]
          },
          "metadata": {},
          "execution_count": 8
        }
      ]
    },
    {
      "cell_type": "markdown",
      "source": [
        "Q.5 Select the below subset.(Use `matrix`)\n",
        "```python\n",
        "array([[2],\n",
        "      [7],\n",
        "      [12]])\n",
        "```\n"
      ],
      "metadata": {
        "id": "BcbS6z8ChM_r"
      }
    },
    {
      "cell_type": "code",
      "source": [
        "a[:3,1].reshape(3,1)"
      ],
      "metadata": {
        "id": "Ut0piiLmhc1F",
        "outputId": "ed7af83f-9a7e-4a25-83f9-a9895bef6dce",
        "colab": {
          "base_uri": "https://localhost:8080/"
        }
      },
      "execution_count": 11,
      "outputs": [
        {
          "output_type": "execute_result",
          "data": {
            "text/plain": [
              "array([[ 2],\n",
              "       [ 7],\n",
              "       [12]])"
            ]
          },
          "metadata": {},
          "execution_count": 11
        }
      ]
    },
    {
      "cell_type": "markdown",
      "source": [
        "Q.6 Select the below subset. (Use `matrix`)\n",
        "```python\n",
        "array([21,22,23,24,25])\n",
        "```"
      ],
      "metadata": {
        "id": "sdYFbRE9hoDe"
      }
    },
    {
      "cell_type": "code",
      "source": [
        "a[4]"
      ],
      "metadata": {
        "id": "zfGt6S5Sh1mr",
        "outputId": "cc10ade8-2074-46ee-d5cb-d4977b194a55",
        "colab": {
          "base_uri": "https://localhost:8080/"
        }
      },
      "execution_count": 12,
      "outputs": [
        {
          "output_type": "execute_result",
          "data": {
            "text/plain": [
              "array([21, 22, 23, 24, 25])"
            ]
          },
          "metadata": {},
          "execution_count": 12
        }
      ]
    },
    {
      "cell_type": "markdown",
      "source": [
        "Q.7 Select the subset below (Use `matrix`)\n",
        "```python\n",
        "array([[16,17,18,19,20],\n",
        "       [21,22,23,24,25]])\n",
        "```\n",
        "\n"
      ],
      "metadata": {
        "id": "kLtHZ-Zlh2Xn"
      }
    },
    {
      "cell_type": "code",
      "source": [
        "a[3:]"
      ],
      "metadata": {
        "id": "L-20oAhtiUG0",
        "outputId": "708c615b-1d72-4355-8b92-3604d78a488d",
        "colab": {
          "base_uri": "https://localhost:8080/"
        }
      },
      "execution_count": 14,
      "outputs": [
        {
          "output_type": "execute_result",
          "data": {
            "text/plain": [
              "array([[16, 17, 18, 19, 20],\n",
              "       [21, 22, 23, 24, 25]])"
            ]
          },
          "metadata": {},
          "execution_count": 14
        }
      ]
    },
    {
      "cell_type": "markdown",
      "source": [
        "Q.8 Get the sum of all the values in `matrix`. (Expected Ans : 325)"
      ],
      "metadata": {
        "id": "s9euxthkiWfE"
      }
    },
    {
      "cell_type": "code",
      "source": [
        "a.sum()"
      ],
      "metadata": {
        "id": "SD1ARsgzihKl",
        "outputId": "f4573f93-f1fa-4bc3-f248-f8995c83212d",
        "colab": {
          "base_uri": "https://localhost:8080/"
        }
      },
      "execution_count": 15,
      "outputs": [
        {
          "output_type": "execute_result",
          "data": {
            "text/plain": [
              "325"
            ]
          },
          "metadata": {},
          "execution_count": 15
        }
      ]
    },
    {
      "cell_type": "markdown",
      "source": [
        "Q.9 Get the standard deviation of the values in `matrix`(Expected Ans : 7.2111025)"
      ],
      "metadata": {
        "id": "LsMfKuulih38"
      }
    },
    {
      "cell_type": "code",
      "source": [
        "a.std()"
      ],
      "metadata": {
        "id": "QWrEDycqivbX",
        "outputId": "a5036c13-085a-419c-b37c-b19eb0b96e92",
        "colab": {
          "base_uri": "https://localhost:8080/"
        }
      },
      "execution_count": 16,
      "outputs": [
        {
          "output_type": "execute_result",
          "data": {
            "text/plain": [
              "7.211102550927978"
            ]
          },
          "metadata": {},
          "execution_count": 16
        }
      ]
    },
    {
      "cell_type": "markdown",
      "source": [
        "Q. 10 Get the sum of all the columns in `matrix`. (Expected Ans: array([55,60,65,70,75])"
      ],
      "metadata": {
        "id": "eUve8iSbiwZ5"
      }
    },
    {
      "cell_type": "code",
      "source": [
        "a.sum(axis=0)"
      ],
      "metadata": {
        "id": "L9woNaJ4jDCp",
        "outputId": "dd8ac566-b092-49f6-8ac4-f274df74c8fc",
        "colab": {
          "base_uri": "https://localhost:8080/"
        }
      },
      "execution_count": 17,
      "outputs": [
        {
          "output_type": "execute_result",
          "data": {
            "text/plain": [
              "array([55, 60, 65, 70, 75])"
            ]
          },
          "metadata": {},
          "execution_count": 17
        }
      ]
    },
    {
      "cell_type": "markdown",
      "source": [
        "Q.11 Reverse a 1D array."
      ],
      "metadata": {
        "id": "lh6rn-DvjFod"
      }
    },
    {
      "cell_type": "code",
      "source": [
        "a=np.array([1,2,3,4,5])\n",
        "a[::-1]"
      ],
      "metadata": {
        "id": "7cqeALjUjKAI",
        "outputId": "feb5838c-49ca-4ee9-b48d-07fdfbd1a573",
        "colab": {
          "base_uri": "https://localhost:8080/"
        }
      },
      "execution_count": 18,
      "outputs": [
        {
          "output_type": "execute_result",
          "data": {
            "text/plain": [
              "array([5, 4, 3, 2, 1])"
            ]
          },
          "metadata": {},
          "execution_count": 18
        }
      ]
    },
    {
      "cell_type": "markdown",
      "source": [
        "Q.12 Find indices of non-zero elements from [10,20,0,0,40,0]"
      ],
      "metadata": {
        "id": "wkFz7Rp0jLC0"
      }
    },
    {
      "cell_type": "code",
      "source": [
        "b=np.array([10,20,0,0,40,0])\n",
        "b[b>0]"
      ],
      "metadata": {
        "id": "Iua-Zy77jTHg",
        "outputId": "b3501465-09b4-4741-e9e5-16b86ea2c921",
        "colab": {
          "base_uri": "https://localhost:8080/"
        }
      },
      "execution_count": 20,
      "outputs": [
        {
          "output_type": "execute_result",
          "data": {
            "text/plain": [
              "array([10, 20, 40])"
            ]
          },
          "metadata": {},
          "execution_count": 20
        }
      ]
    },
    {
      "cell_type": "markdown",
      "source": [
        "Q.13 Create a 10x10 array with random values and find the minimum and maximum values."
      ],
      "metadata": {
        "id": "R5QyWa_NjUJW"
      }
    },
    {
      "cell_type": "code",
      "source": [
        "a=np.random.randint(1,100,(10,10))\n",
        "print(a.min())\n",
        "a.max()"
      ],
      "metadata": {
        "id": "OwSIG27HjfRR",
        "outputId": "33646928-bf01-423e-e1bf-8e749583c5d9",
        "colab": {
          "base_uri": "https://localhost:8080/"
        }
      },
      "execution_count": 26,
      "outputs": [
        {
          "output_type": "stream",
          "name": "stdout",
          "text": [
            "4\n"
          ]
        },
        {
          "output_type": "execute_result",
          "data": {
            "text/plain": [
              "99"
            ]
          },
          "metadata": {},
          "execution_count": 26
        }
      ]
    },
    {
      "cell_type": "markdown",
      "source": [
        "Q.14 Create a 10x10 array with 1 on the border and 0 inside."
      ],
      "metadata": {
        "id": "Co8OTEJ6jf6e"
      }
    },
    {
      "cell_type": "code",
      "source": [
        "c=np.ones((8,8),dtype=int)\n",
        "c[1:-1,1:-1] = 0\n",
        "c"
      ],
      "metadata": {
        "id": "Wzr5gLOJjvku",
        "outputId": "772bba40-6b53-4d80-97a7-025184254af8",
        "colab": {
          "base_uri": "https://localhost:8080/"
        }
      },
      "execution_count": 30,
      "outputs": [
        {
          "output_type": "execute_result",
          "data": {
            "text/plain": [
              "array([[1, 1, 1, 1, 1, 1, 1, 1],\n",
              "       [1, 0, 0, 0, 0, 0, 0, 1],\n",
              "       [1, 0, 0, 0, 0, 0, 0, 1],\n",
              "       [1, 0, 0, 0, 0, 0, 0, 1],\n",
              "       [1, 0, 0, 0, 0, 0, 0, 1],\n",
              "       [1, 0, 0, 0, 0, 0, 0, 1],\n",
              "       [1, 0, 0, 0, 0, 0, 0, 1],\n",
              "       [1, 1, 1, 1, 1, 1, 1, 1]])"
            ]
          },
          "metadata": {},
          "execution_count": 30
        }
      ]
    },
    {
      "cell_type": "markdown",
      "source": [
        "Q. 15 Create 8x8 array and fill it with the cheakerboard pattern."
      ],
      "metadata": {
        "id": "3JLtpLvmjwyZ"
      }
    },
    {
      "cell_type": "code",
      "source": [
        "d=np.zeros((8,8),dtype=int)\n",
        "d[1::2,::2] = 1\n",
        "d[::2,1::2] =1\n",
        "d"
      ],
      "metadata": {
        "id": "u4gEfzjbj7Ur",
        "outputId": "abb48f2e-8e0a-4c8d-a133-16053d950fb2",
        "colab": {
          "base_uri": "https://localhost:8080/"
        }
      },
      "execution_count": 33,
      "outputs": [
        {
          "output_type": "execute_result",
          "data": {
            "text/plain": [
              "array([[0, 1, 0, 1, 0, 1, 0, 1],\n",
              "       [1, 0, 1, 0, 1, 0, 1, 0],\n",
              "       [0, 1, 0, 1, 0, 1, 0, 1],\n",
              "       [1, 0, 1, 0, 1, 0, 1, 0],\n",
              "       [0, 1, 0, 1, 0, 1, 0, 1],\n",
              "       [1, 0, 1, 0, 1, 0, 1, 0],\n",
              "       [0, 1, 0, 1, 0, 1, 0, 1],\n",
              "       [1, 0, 1, 0, 1, 0, 1, 0]])"
            ]
          },
          "metadata": {},
          "execution_count": 33
        }
      ]
    },
    {
      "cell_type": "markdown",
      "source": [
        "Q.16 Create a numpy array of size 10 with values ranging from 0 to 1, both excluded."
      ],
      "metadata": {
        "id": "1PjyOeDAj8KP"
      }
    },
    {
      "cell_type": "code",
      "source": [
        "e=np.random.rand(10)\n",
        "e"
      ],
      "metadata": {
        "id": "pQqh-pfYkTJ2",
        "outputId": "104b952c-57fa-41d1-ae16-75a03090a125",
        "colab": {
          "base_uri": "https://localhost:8080/"
        }
      },
      "execution_count": 39,
      "outputs": [
        {
          "output_type": "execute_result",
          "data": {
            "text/plain": [
              "array([0.24575511, 0.03101741, 0.68835899, 0.29142193, 0.640142  ,\n",
              "       0.36635893, 0.76771337, 0.86139842, 0.7070531 , 0.07667167])"
            ]
          },
          "metadata": {},
          "execution_count": 39
        }
      ]
    },
    {
      "cell_type": "markdown",
      "source": [
        "Q.17 Create a random array of size 10 and sort it."
      ],
      "metadata": {
        "id": "mEeRFj_LkTny"
      }
    },
    {
      "cell_type": "code",
      "source": [
        "f=np.random.randint(1,10,10)\n",
        "f.sort()\n",
        "f"
      ],
      "metadata": {
        "id": "PFCXlqJ1kbVp",
        "outputId": "6712cd9a-e1f6-484e-d328-205c0f5d456a",
        "colab": {
          "base_uri": "https://localhost:8080/"
        }
      },
      "execution_count": 45,
      "outputs": [
        {
          "output_type": "execute_result",
          "data": {
            "text/plain": [
              "array([1, 3, 3, 5, 6, 7, 7, 8, 9, 9])"
            ]
          },
          "metadata": {},
          "execution_count": 45
        }
      ]
    },
    {
      "cell_type": "markdown",
      "source": [
        "Q.18 Create a random array of size 10 and replace the maximum value with 0."
      ],
      "metadata": {
        "id": "To1wobp2kb7C"
      }
    },
    {
      "cell_type": "code",
      "source": [
        "h=np.argmax(f)\n",
        "f[h]=0\n",
        "f"
      ],
      "metadata": {
        "id": "02ckfVLvkhSw",
        "outputId": "bed394d8-fd09-48af-8b9a-7eeb36166bff",
        "colab": {
          "base_uri": "https://localhost:8080/"
        }
      },
      "execution_count": 48,
      "outputs": [
        {
          "output_type": "execute_result",
          "data": {
            "text/plain": [
              "array([1, 3, 3, 5, 6, 7, 7, 8, 0, 0])"
            ]
          },
          "metadata": {},
          "execution_count": 48
        }
      ]
    },
    {
      "cell_type": "markdown",
      "source": [
        "Q.19 Create a random array of size 10 and replace the minimum value with 10."
      ],
      "metadata": {
        "id": "dxCgo46pQuI_"
      }
    },
    {
      "cell_type": "code",
      "source": [
        "w=np.random.randint(1,10,10)\n",
        "k=np.argmin(f)\n",
        "w[k]=10\n",
        "w"
      ],
      "metadata": {
        "id": "iNP4L6uaQ06W",
        "outputId": "f2257719-7532-4066-8dbd-c399e4324670",
        "colab": {
          "base_uri": "https://localhost:8080/"
        }
      },
      "execution_count": 51,
      "outputs": [
        {
          "output_type": "execute_result",
          "data": {
            "text/plain": [
              "array([ 8,  6,  4,  4,  6,  6,  1,  8,  7, 10])"
            ]
          },
          "metadata": {},
          "execution_count": 51
        }
      ]
    },
    {
      "cell_type": "markdown",
      "source": [
        "Q.20 Create an array of size 5x5 and swap two rows."
      ],
      "metadata": {
        "id": "-RHfc3ymkh_C"
      }
    },
    {
      "cell_type": "code",
      "source": [
        "q=np.random.randint(1,50,(5,5))\n",
        "q[2,0]=q[0,2]\n",
        "q"
      ],
      "metadata": {
        "id": "OvK420zakymy",
        "outputId": "0b69cfca-a02f-4f30-f5b5-d33c4a2f03f5",
        "colab": {
          "base_uri": "https://localhost:8080/"
        }
      },
      "execution_count": 56,
      "outputs": [
        {
          "output_type": "execute_result",
          "data": {
            "text/plain": [
              "array([[18, 24, 17, 47, 31],\n",
              "       [45, 24, 38,  7, 41],\n",
              "       [17, 25, 19, 39, 17],\n",
              "       [ 5,  4,  3,  1,  3],\n",
              "       [ 4, 42, 39, 10, 31]])"
            ]
          },
          "metadata": {},
          "execution_count": 56
        }
      ]
    },
    {
      "cell_type": "markdown",
      "source": [
        "# End!"
      ],
      "metadata": {
        "id": "3RtCSNU_nZGs"
      }
    }
  ]
}